{
  "nbformat": 4,
  "nbformat_minor": 0,
  "metadata": {
    "colab": {
      "name": "pytorch-basics.ipynb",
      "provenance": [],
      "authorship_tag": "ABX9TyP7xaHnKgGjb8laZbjw946B",
      "include_colab_link": true
    },
    "kernelspec": {
      "name": "python3",
      "display_name": "Python 3"
    }
  },
  "cells": [
    {
      "cell_type": "markdown",
      "metadata": {
        "id": "view-in-github",
        "colab_type": "text"
      },
      "source": [
        "<a href=\"https://colab.research.google.com/github/shekarramaswamy4/tf-pytorch-sandbox/blob/master/pytorch_basics.ipynb\" target=\"_parent\"><img src=\"https://colab.research.google.com/assets/colab-badge.svg\" alt=\"Open In Colab\"/></a>"
      ]
    },
    {
      "cell_type": "code",
      "metadata": {
        "id": "E4C2bZcbJkTp",
        "colab_type": "code",
        "colab": {}
      },
      "source": [
        "# Purpose: refreshing memory of pytorch basics\n",
        "from __future__ import print_function\n",
        "import torch"
      ],
      "execution_count": 0,
      "outputs": []
    },
    {
      "cell_type": "code",
      "metadata": {
        "id": "QonLUMFRKIOJ",
        "colab_type": "code",
        "colab": {
          "base_uri": "https://localhost:8080/",
          "height": 215
        },
        "outputId": "11c09fb5-42cc-44b3-bdcd-848d6797715a"
      },
      "source": [
        "x = torch.empty(5, 3)\n",
        "x = torch.rand(5, 3)\n",
        "x = torch.zeros(5, 3, dtype=torch.long)\n",
        "x = x.new_ones(5, 3, dtype=torch.double)\n",
        "print(x.size())\n",
        "y = torch.rand(5, 3)\n",
        "z = x + y\n",
        "print(z)\n",
        "\n",
        "y.add_(x) # adds in place. any operation that mutates in place is post-fixed with _"
      ],
      "execution_count": 4,
      "outputs": [
        {
          "output_type": "stream",
          "text": [
            "tensor([[1., 1., 1.],\n",
            "        [1., 1., 1.],\n",
            "        [1., 1., 1.],\n",
            "        [1., 1., 1.],\n",
            "        [1., 1., 1.]], dtype=torch.float64)\n",
            "torch.Size([5, 3])\n",
            "tensor([[1.7063, 1.1468, 1.7186],\n",
            "        [1.0620, 1.7752, 1.3976],\n",
            "        [1.3856, 1.3264, 1.4275],\n",
            "        [1.8696, 1.3355, 1.4415],\n",
            "        [1.7525, 1.4986, 1.3373]], dtype=torch.float64)\n"
          ],
          "name": "stdout"
        }
      ]
    },
    {
      "cell_type": "code",
      "metadata": {
        "id": "NsDIgYVJLfGd",
        "colab_type": "code",
        "colab": {
          "base_uri": "https://localhost:8080/",
          "height": 35
        },
        "outputId": "72a1d7db-8389-4d5e-85b5-09cffdf95a87"
      },
      "source": [
        "print(z[:2, 1])"
      ],
      "execution_count": 8,
      "outputs": [
        {
          "output_type": "stream",
          "text": [
            "tensor([1.1468, 1.7752], dtype=torch.float64)\n"
          ],
          "name": "stdout"
        }
      ]
    },
    {
      "cell_type": "code",
      "metadata": {
        "id": "WhFayoUrMDfO",
        "colab_type": "code",
        "colab": {
          "base_uri": "https://localhost:8080/",
          "height": 179
        },
        "outputId": "686d56cc-b835-47dd-9adc-564b7a7db9bc"
      },
      "source": [
        "x = torch.randn(5, 4)\n",
        "y = x.view(4, 5)\n",
        "print(x)\n",
        "print(y)"
      ],
      "execution_count": 11,
      "outputs": [
        {
          "output_type": "stream",
          "text": [
            "tensor([[-0.2273,  2.1592,  0.4239, -0.0546],\n",
            "        [-0.3259, -1.2157, -0.0155, -1.3147],\n",
            "        [-0.7765, -0.0306, -0.6572, -1.5288],\n",
            "        [-0.4717, -0.5740,  2.1837,  0.4893],\n",
            "        [ 0.5890, -0.2862, -1.0189,  0.7803]])\n",
            "tensor([[-0.2273,  2.1592,  0.4239, -0.0546, -0.3259],\n",
            "        [-1.2157, -0.0155, -1.3147, -0.7765, -0.0306],\n",
            "        [-0.6572, -1.5288, -0.4717, -0.5740,  2.1837],\n",
            "        [ 0.4893,  0.5890, -0.2862, -1.0189,  0.7803]])\n"
          ],
          "name": "stdout"
        }
      ]
    },
    {
      "cell_type": "code",
      "metadata": {
        "id": "bUCM5jVWMjQJ",
        "colab_type": "code",
        "colab": {
          "base_uri": "https://localhost:8080/",
          "height": 89
        },
        "outputId": "3217bc13-2b51-4e0e-cc59-5dbd1fdd0442"
      },
      "source": [
        "# torch <=> numpy\n",
        "a = torch.ones(3)\n",
        "b = a.numpy()\n",
        "b = b + 1\n",
        "print(b)\n",
        "\n",
        "c = torch.from_numpy(b)\n",
        "a.add_(2)\n",
        "print(a)\n",
        "print(b)\n",
        "print(c)"
      ],
      "execution_count": 15,
      "outputs": [
        {
          "output_type": "stream",
          "text": [
            "[2. 2. 2.]\n",
            "tensor([3., 3., 3.])\n",
            "[2. 2. 2.]\n",
            "tensor([2., 2., 2.])\n"
          ],
          "name": "stdout"
        }
      ]
    },
    {
      "cell_type": "code",
      "metadata": {
        "id": "FQFP1H8VNQ4k",
        "colab_type": "code",
        "colab": {}
      },
      "source": [
        "# cuda\n",
        "if torch.cuda.is_available():\n",
        "  device = torch.device(\"cuda\")\n",
        "  y = torch.ones(3, device=device)\n",
        "  x = torch.ones(3)\n",
        "  z = x + y # this shouldn't work\n",
        "  print(z)\n",
        "  print(z.to(\"cpu\", torch.double))"
      ],
      "execution_count": 0,
      "outputs": []
    },
    {
      "cell_type": "code",
      "metadata": {
        "id": "NF1T4PKxN8pZ",
        "colab_type": "code",
        "colab": {
          "base_uri": "https://localhost:8080/",
          "height": 89
        },
        "outputId": "b8531bf4-b22f-4fbc-a652-d83d2aa45e77"
      },
      "source": [
        "# Autograd\n",
        "x = torch.ones(2, 2, requires_grad=True)\n",
        "y = x + 2\n",
        "z = y * y * 3\n",
        "out = z.mean()\n",
        "print(z, out)\n",
        "out.backward()\n",
        "print(x.grad)"
      ],
      "execution_count": 19,
      "outputs": [
        {
          "output_type": "stream",
          "text": [
            "tensor([[27., 27.],\n",
            "        [27., 27.]], grad_fn=<MulBackward0>) tensor(27., grad_fn=<MeanBackward0>)\n",
            "tensor([[4.5000, 4.5000],\n",
            "        [4.5000, 4.5000]])\n"
          ],
          "name": "stdout"
        }
      ]
    },
    {
      "cell_type": "code",
      "metadata": {
        "id": "fNH5alzVO2Cm",
        "colab_type": "code",
        "colab": {
          "base_uri": "https://localhost:8080/",
          "height": 161
        },
        "outputId": "269625fb-556c-4952-eb29-690c03bdad31"
      },
      "source": [
        "# torch.nn\n",
        "import torch.nn as nn\n",
        "import torch.nn.functional as F\n",
        "\n",
        "\n",
        "class Net(nn.Module):\n",
        "\n",
        "    def __init__(self):\n",
        "        super(Net, self).__init__()\n",
        "        # 1 input image channel, 6 output channels, 3x3 square convolution\n",
        "        # kernel\n",
        "        self.conv1 = nn.Conv2d(1, 6, 3)\n",
        "        self.conv2 = nn.Conv2d(6, 16, 3)\n",
        "        # an affine operation: y = Wx + b\n",
        "        self.fc1 = nn.Linear(16 * 6 * 6, 120)  # 6*6 from image dimension\n",
        "        self.fc2 = nn.Linear(120, 84)\n",
        "        self.fc3 = nn.Linear(84, 10)\n",
        "\n",
        "    def forward(self, x):\n",
        "        # Max pooling over a (2, 2) window\n",
        "        x = F.max_pool2d(F.relu(self.conv1(x)), (2, 2))\n",
        "        # If the size is a square you can only specify a single number\n",
        "        x = F.max_pool2d(F.relu(self.conv2(x)), 2)\n",
        "        x = x.view(-1, self.num_flat_features(x))\n",
        "        x = F.relu(self.fc1(x))\n",
        "        x = F.relu(self.fc2(x))\n",
        "        x = self.fc3(x)\n",
        "        return x\n",
        "\n",
        "    def num_flat_features(self, x):\n",
        "        size = x.size()[1:]  # all dimensions except the batch dimension\n",
        "        num_features = 1\n",
        "        for s in size:\n",
        "            num_features *= s\n",
        "        return num_features\n",
        "\n",
        "\n",
        "net = Net()\n",
        "print(net)\n",
        "print(net.parameters())"
      ],
      "execution_count": 22,
      "outputs": [
        {
          "output_type": "stream",
          "text": [
            "Net(\n",
            "  (conv1): Conv2d(1, 6, kernel_size=(3, 3), stride=(1, 1))\n",
            "  (conv2): Conv2d(6, 16, kernel_size=(3, 3), stride=(1, 1))\n",
            "  (fc1): Linear(in_features=576, out_features=120, bias=True)\n",
            "  (fc2): Linear(in_features=120, out_features=84, bias=True)\n",
            "  (fc3): Linear(in_features=84, out_features=10, bias=True)\n",
            ")\n",
            "<generator object Module.parameters at 0x7f4061eb9d58>\n"
          ],
          "name": "stdout"
        }
      ]
    },
    {
      "cell_type": "code",
      "metadata": {
        "id": "U1SPFbT8Qh_I",
        "colab_type": "code",
        "colab": {
          "base_uri": "https://localhost:8080/",
          "height": 35
        },
        "outputId": "970fd09b-d5e1-448c-a1e1-c6da84a8da85"
      },
      "source": [
        "input = torch.randn(1, 1, 32, 32)\n",
        "out = net(input)\n",
        "target = torch.randn(10)\n",
        "target = target.view(1, -1)\n",
        "criterion = nn.MSELoss()\n",
        "loss = criterion(out, target)\n",
        "print(loss)"
      ],
      "execution_count": 24,
      "outputs": [
        {
          "output_type": "stream",
          "text": [
            "tensor(1.9583, grad_fn=<MseLossBackward>)\n"
          ],
          "name": "stdout"
        }
      ]
    },
    {
      "cell_type": "code",
      "metadata": {
        "id": "6fOo9K6wRWSb",
        "colab_type": "code",
        "colab": {}
      },
      "source": [
        "# optimizers\n",
        "import torch.optim as optim\n",
        "optimizer = optim.SGD(net.parameters(), lr=0.01)\n",
        "# output, get loss, loss.backward(), optimizer.step()"
      ],
      "execution_count": 0,
      "outputs": []
    }
  ]
}